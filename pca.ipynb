{
 "cells": [
  {
   "cell_type": "code",
   "execution_count": 86,
   "metadata": {},
   "outputs": [],
   "source": [
    "#numpy, pandas, matplotlib, os\n",
    "import numpy as np\n",
    "import pandas as pd\n",
    "import matplotlib.pyplot as plt\n",
    "import os\n",
    "\n",
    "#PyTorch and its sub modules\n",
    "import torch\n",
    "import torchvision\n",
    "from torchvision import transforms\n",
    "from torch.utils.data import DataLoader, Dataset\n",
    "from torch import nn\n",
    "\n",
    "from jpeg_to_num import *"
   ]
  },
  {
   "cell_type": "code",
   "execution_count": 87,
   "metadata": {},
   "outputs": [
    {
     "data": {
      "text/plain": [
       "'/Users/keladaoba/Desktop/1/-Math_108C-Final-Project'"
      ]
     },
     "execution_count": 87,
     "metadata": {},
     "output_type": "execute_result"
    }
   ],
   "source": [
    "os.getcwd()"
   ]
  },
  {
   "cell_type": "code",
   "execution_count": 88,
   "metadata": {},
   "outputs": [
    {
     "data": {
      "text/plain": [
       "'/Users/keladaoba/Desktop/1/-Math_108C-Final-Project/data/data'"
      ]
     },
     "execution_count": 88,
     "metadata": {},
     "output_type": "execute_result"
    }
   ],
   "source": [
    "Current_Directory=os.getcwd()\n",
    "Image_Directory=os.path.join(Current_Directory, \"data/\", \"data\")\n",
    "Image_Directory"
   ]
  },
  {
   "cell_type": "code",
   "execution_count": 89,
   "metadata": {},
   "outputs": [],
   "source": [
    "train_transform=transforms.Compose([\n",
    "    transforms.Grayscale(),\n",
    "    transforms.ToTensor()])\n",
    "dataloader=DataLoader(dataset=torchvision.datasets.ImageFolder(os.path.join(Current_Directory, \"data/\"), transform=train_transform), batch_size=64)"
   ]
  },
  {
   "cell_type": "code",
   "execution_count": 90,
   "metadata": {},
   "outputs": [
    {
     "name": "stdout",
     "output_type": "stream",
     "text": [
      "Feature batch shape: torch.Size([64, 1, 218, 178])\n"
     ]
    },
    {
     "data": {
      "text/plain": [
       "torch.Size([5000, 1, 218, 178])"
      ]
     },
     "execution_count": 90,
     "metadata": {},
     "output_type": "execute_result"
    }
   ],
   "source": [
    "all_features=[]\n",
    "flag=1\n",
    "for train_features, train_labels in dataloader:\n",
    "    all_features.append(train_features)\n",
    "    \n",
    "    if flag==1:\n",
    "        print(f\"Feature batch shape: {train_features.shape}\")\n",
    "        flag=0\n",
    "\n",
    "all_features=torch.cat(all_features, dim=0)\n",
    "all_features.shape"
   ]
  },
  {
   "cell_type": "code",
   "execution_count": 91,
   "metadata": {},
   "outputs": [],
   "source": [
    "# turn tensor into matrix\n",
    "mymat = np.asarray(all_features[0,:])"
   ]
  },
  {
   "cell_type": "code",
   "execution_count": 93,
   "metadata": {},
   "outputs": [],
   "source": [
    "# function for cov matrix\n",
    "def covariance(i):\n",
    "    X = mymat[i]\n",
    "    return (1/((X.shape[0]*X.shape[1])-1)) * np.transpose(X) @ X\n",
    "\n",
    "Cov = covariance(0)"
   ]
  },
  {
   "cell_type": "code",
   "execution_count": 99,
   "metadata": {},
   "outputs": [],
   "source": [
    "# aquire all eigenvalues and eigenvectors\n",
    "eigenvalues, eigenvectors = np.linalg.eigh(Cov)"
   ]
  },
  {
   "cell_type": "code",
   "execution_count": 113,
   "metadata": {},
   "outputs": [
    {
     "data": {
      "text/plain": [
       "array([[6.52025278e-08, 7.67143575e-08, 1.16639825e-07, ...,\n",
       "        1.05417334e-02, 3.47160026e-02, 3.50276202e-01],\n",
       "       [6.52025278e-08, 7.67143575e-08, 1.16639825e-07, ...,\n",
       "        1.05417334e-02, 3.47160026e-02, 3.50276202e-01],\n",
       "       [6.52025278e-08, 7.67143575e-08, 1.16639825e-07, ...,\n",
       "        1.05417334e-02, 3.47160026e-02, 3.50276202e-01],\n",
       "       ...,\n",
       "       [6.52025278e-08, 7.67143575e-08, 1.16639825e-07, ...,\n",
       "        1.05417334e-02, 3.47160026e-02, 3.50276202e-01],\n",
       "       [6.52025278e-08, 7.67143575e-08, 1.16639825e-07, ...,\n",
       "        1.05417334e-02, 3.47160026e-02, 3.50276202e-01],\n",
       "       [6.52025278e-08, 7.67143575e-08, 1.16639825e-07, ...,\n",
       "        1.05417334e-02, 3.47160026e-02, 3.50276202e-01]], dtype=float32)"
      ]
     },
     "execution_count": 113,
     "metadata": {},
     "output_type": "execute_result"
    }
   ],
   "source": [
    "# sort eigenvalues in descending order\n",
    "index = np.argsort(eigenvalues)[::-1]\n",
    "\n",
    "# sort eigenvalues\n",
    "sorted_eigenvalues = eigenvalues[index]\n",
    "\n",
    "# sort eigenvectors\n",
    "sorted_eigenvectors = eigenvectors[:,index]\n",
    "\n",
    "eigenvectors"
   ]
  },
  {
   "cell_type": "code",
   "execution_count": 116,
   "metadata": {},
   "outputs": [],
   "source": [
    "# select eigenvecgtors corresponding to the top 10 eigenvalues\n",
    "top_eigenvectors = sorted_eigenvectors[:, :10]"
   ]
  },
  {
   "cell_type": "code",
   "execution_count": 115,
   "metadata": {},
   "outputs": [],
   "source": [
    "# biuld the projection matrix\n",
    "projection_matrix = top_eigenvectors"
   ]
  },
  {
   "cell_type": "code",
   "execution_count": 132,
   "metadata": {},
   "outputs": [
    {
     "data": {
      "text/plain": [
       "array([[[43.491943  ,  4.3105025 ,  1.3089111 , ...,  0.16702673,\n",
       "          0.12009911,  0.09730984],\n",
       "        [43.390297  ,  4.3004284 ,  1.3058519 , ...,  0.16663635,\n",
       "          0.1198184 ,  0.09708242],\n",
       "        [43.435627  ,  4.3049207 ,  1.3072163 , ...,  0.16681045,\n",
       "          0.11994359,  0.09718384],\n",
       "        ...,\n",
       "        [23.038559  ,  2.28336   ,  0.69335675, ...,  0.08847743,\n",
       "          0.06361893,  0.05154699],\n",
       "        [22.957516  ,  2.2753277 ,  0.6909176 , ...,  0.08816619,\n",
       "          0.06339512,  0.05136566],\n",
       "        [23.221252  ,  2.301467  ,  0.698855  , ...,  0.08917905,\n",
       "          0.06412341,  0.05195575]]], dtype=float32)"
      ]
     },
     "execution_count": 132,
     "metadata": {},
     "output_type": "execute_result"
    }
   ],
   "source": [
    "mymat\n",
    "projected = mymat.dot(projection_matrix)\n",
    "projected"
   ]
  },
  {
   "cell_type": "code",
   "execution_count": 128,
   "metadata": {},
   "outputs": [
    {
     "data": {
      "text/plain": [
       "(1, 218, 10)"
      ]
     },
     "execution_count": 128,
     "metadata": {},
     "output_type": "execute_result"
    }
   ],
   "source": [
    "projected.shape\n",
    "# this indicates that data needs to be reshaped"
   ]
  },
  {
   "cell_type": "code",
   "execution_count": 129,
   "metadata": {},
   "outputs": [],
   "source": [
    "projected = projected.reshape(-1, 10)"
   ]
  },
  {
   "cell_type": "code",
   "execution_count": 131,
   "metadata": {},
   "outputs": [
    {
     "data": {
      "text/html": [
       "<div>\n",
       "<style scoped>\n",
       "    .dataframe tbody tr th:only-of-type {\n",
       "        vertical-align: middle;\n",
       "    }\n",
       "\n",
       "    .dataframe tbody tr th {\n",
       "        vertical-align: top;\n",
       "    }\n",
       "\n",
       "    .dataframe thead th {\n",
       "        text-align: right;\n",
       "    }\n",
       "</style>\n",
       "<table border=\"1\" class=\"dataframe\">\n",
       "  <thead>\n",
       "    <tr style=\"text-align: right;\">\n",
       "      <th></th>\n",
       "      <th>0</th>\n",
       "      <th>1</th>\n",
       "      <th>2</th>\n",
       "      <th>3</th>\n",
       "      <th>4</th>\n",
       "      <th>5</th>\n",
       "      <th>6</th>\n",
       "      <th>7</th>\n",
       "      <th>8</th>\n",
       "      <th>9</th>\n",
       "    </tr>\n",
       "  </thead>\n",
       "  <tbody>\n",
       "    <tr>\n",
       "      <th>0</th>\n",
       "      <td>43.491943</td>\n",
       "      <td>4.310503</td>\n",
       "      <td>1.308911</td>\n",
       "      <td>0.566166</td>\n",
       "      <td>0.400953</td>\n",
       "      <td>0.336594</td>\n",
       "      <td>0.217951</td>\n",
       "      <td>0.167027</td>\n",
       "      <td>0.120099</td>\n",
       "      <td>0.097310</td>\n",
       "    </tr>\n",
       "    <tr>\n",
       "      <th>1</th>\n",
       "      <td>43.390297</td>\n",
       "      <td>4.300428</td>\n",
       "      <td>1.305852</td>\n",
       "      <td>0.564843</td>\n",
       "      <td>0.400015</td>\n",
       "      <td>0.335808</td>\n",
       "      <td>0.217441</td>\n",
       "      <td>0.166636</td>\n",
       "      <td>0.119818</td>\n",
       "      <td>0.097082</td>\n",
       "    </tr>\n",
       "    <tr>\n",
       "      <th>2</th>\n",
       "      <td>43.435627</td>\n",
       "      <td>4.304921</td>\n",
       "      <td>1.307216</td>\n",
       "      <td>0.565433</td>\n",
       "      <td>0.400433</td>\n",
       "      <td>0.336158</td>\n",
       "      <td>0.217668</td>\n",
       "      <td>0.166810</td>\n",
       "      <td>0.119944</td>\n",
       "      <td>0.097184</td>\n",
       "    </tr>\n",
       "    <tr>\n",
       "      <th>3</th>\n",
       "      <td>43.552383</td>\n",
       "      <td>4.316492</td>\n",
       "      <td>1.310730</td>\n",
       "      <td>0.566953</td>\n",
       "      <td>0.401510</td>\n",
       "      <td>0.337062</td>\n",
       "      <td>0.218253</td>\n",
       "      <td>0.167259</td>\n",
       "      <td>0.120266</td>\n",
       "      <td>0.097445</td>\n",
       "    </tr>\n",
       "    <tr>\n",
       "      <th>4</th>\n",
       "      <td>43.527660</td>\n",
       "      <td>4.314042</td>\n",
       "      <td>1.309986</td>\n",
       "      <td>0.566631</td>\n",
       "      <td>0.401282</td>\n",
       "      <td>0.336871</td>\n",
       "      <td>0.218129</td>\n",
       "      <td>0.167164</td>\n",
       "      <td>0.120198</td>\n",
       "      <td>0.097390</td>\n",
       "    </tr>\n",
       "    <tr>\n",
       "      <th>...</th>\n",
       "      <td>...</td>\n",
       "      <td>...</td>\n",
       "      <td>...</td>\n",
       "      <td>...</td>\n",
       "      <td>...</td>\n",
       "      <td>...</td>\n",
       "      <td>...</td>\n",
       "      <td>...</td>\n",
       "      <td>...</td>\n",
       "      <td>...</td>\n",
       "    </tr>\n",
       "    <tr>\n",
       "      <th>213</th>\n",
       "      <td>22.387459</td>\n",
       "      <td>2.218829</td>\n",
       "      <td>0.673761</td>\n",
       "      <td>0.291434</td>\n",
       "      <td>0.206390</td>\n",
       "      <td>0.173262</td>\n",
       "      <td>0.112190</td>\n",
       "      <td>0.085977</td>\n",
       "      <td>0.061821</td>\n",
       "      <td>0.050090</td>\n",
       "    </tr>\n",
       "    <tr>\n",
       "      <th>214</th>\n",
       "      <td>22.675922</td>\n",
       "      <td>2.247419</td>\n",
       "      <td>0.682443</td>\n",
       "      <td>0.295189</td>\n",
       "      <td>0.209049</td>\n",
       "      <td>0.175494</td>\n",
       "      <td>0.113635</td>\n",
       "      <td>0.087085</td>\n",
       "      <td>0.062618</td>\n",
       "      <td>0.050736</td>\n",
       "    </tr>\n",
       "    <tr>\n",
       "      <th>215</th>\n",
       "      <td>23.038559</td>\n",
       "      <td>2.283360</td>\n",
       "      <td>0.693357</td>\n",
       "      <td>0.299910</td>\n",
       "      <td>0.212393</td>\n",
       "      <td>0.178301</td>\n",
       "      <td>0.115453</td>\n",
       "      <td>0.088477</td>\n",
       "      <td>0.063619</td>\n",
       "      <td>0.051547</td>\n",
       "    </tr>\n",
       "    <tr>\n",
       "      <th>216</th>\n",
       "      <td>22.957516</td>\n",
       "      <td>2.275328</td>\n",
       "      <td>0.690918</td>\n",
       "      <td>0.298855</td>\n",
       "      <td>0.211646</td>\n",
       "      <td>0.177674</td>\n",
       "      <td>0.115047</td>\n",
       "      <td>0.088166</td>\n",
       "      <td>0.063395</td>\n",
       "      <td>0.051366</td>\n",
       "    </tr>\n",
       "    <tr>\n",
       "      <th>217</th>\n",
       "      <td>23.221252</td>\n",
       "      <td>2.301467</td>\n",
       "      <td>0.698855</td>\n",
       "      <td>0.302288</td>\n",
       "      <td>0.214077</td>\n",
       "      <td>0.179715</td>\n",
       "      <td>0.116368</td>\n",
       "      <td>0.089179</td>\n",
       "      <td>0.064123</td>\n",
       "      <td>0.051956</td>\n",
       "    </tr>\n",
       "  </tbody>\n",
       "</table>\n",
       "<p>218 rows × 10 columns</p>\n",
       "</div>"
      ],
      "text/plain": [
       "             0         1         2         3         4         5         6  \\\n",
       "0    43.491943  4.310503  1.308911  0.566166  0.400953  0.336594  0.217951   \n",
       "1    43.390297  4.300428  1.305852  0.564843  0.400015  0.335808  0.217441   \n",
       "2    43.435627  4.304921  1.307216  0.565433  0.400433  0.336158  0.217668   \n",
       "3    43.552383  4.316492  1.310730  0.566953  0.401510  0.337062  0.218253   \n",
       "4    43.527660  4.314042  1.309986  0.566631  0.401282  0.336871  0.218129   \n",
       "..         ...       ...       ...       ...       ...       ...       ...   \n",
       "213  22.387459  2.218829  0.673761  0.291434  0.206390  0.173262  0.112190   \n",
       "214  22.675922  2.247419  0.682443  0.295189  0.209049  0.175494  0.113635   \n",
       "215  23.038559  2.283360  0.693357  0.299910  0.212393  0.178301  0.115453   \n",
       "216  22.957516  2.275328  0.690918  0.298855  0.211646  0.177674  0.115047   \n",
       "217  23.221252  2.301467  0.698855  0.302288  0.214077  0.179715  0.116368   \n",
       "\n",
       "            7         8         9  \n",
       "0    0.167027  0.120099  0.097310  \n",
       "1    0.166636  0.119818  0.097082  \n",
       "2    0.166810  0.119944  0.097184  \n",
       "3    0.167259  0.120266  0.097445  \n",
       "4    0.167164  0.120198  0.097390  \n",
       "..        ...       ...       ...  \n",
       "213  0.085977  0.061821  0.050090  \n",
       "214  0.087085  0.062618  0.050736  \n",
       "215  0.088477  0.063619  0.051547  \n",
       "216  0.088166  0.063395  0.051366  \n",
       "217  0.089179  0.064123  0.051956  \n",
       "\n",
       "[218 rows x 10 columns]"
      ]
     },
     "execution_count": 131,
     "metadata": {},
     "output_type": "execute_result"
    }
   ],
   "source": [
    "principalDf = pd.DataFrame(data = projected) \n",
    "principalDf"
   ]
  }
 ],
 "metadata": {
  "kernelspec": {
   "display_name": "Python 3",
   "language": "python",
   "name": "python3"
  },
  "language_info": {
   "codemirror_mode": {
    "name": "ipython",
    "version": 3
   },
   "file_extension": ".py",
   "mimetype": "text/x-python",
   "name": "python",
   "nbconvert_exporter": "python",
   "pygments_lexer": "ipython3",
   "version": "3.11.2"
  }
 },
 "nbformat": 4,
 "nbformat_minor": 2
}
